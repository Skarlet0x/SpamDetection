{
 "cells": [
  {
   "cell_type": "markdown",
   "metadata": {
    "id": "8gEVQHSCP4sC"
   },
   "source": [
    "### IMPORTS\n",
    "\n",
    "---\n",
    "\n",
    "\n",
    "\n"
   ]
  },
  {
   "cell_type": "code",
   "execution_count": null,
   "metadata": {
    "id": "lh6KEOh8IJdc"
   },
   "outputs": [],
   "source": [
    "!pip install tensorflow"
   ]
  },
  {
   "cell_type": "code",
   "execution_count": 1,
   "metadata": {
    "executionInfo": {
     "elapsed": 350,
     "status": "ok",
     "timestamp": 1644925164796,
     "user": {
      "displayName": "Petra Bajac",
      "photoUrl": "https://lh3.googleusercontent.com/a-/AOh14GisMWQ6Nwt62NYivub0ffOkvc3Im46ek_BgBPz3=s64",
      "userId": "17459354793322234878"
     },
     "user_tz": -60
    },
    "id": "Vd8Xv-bbP2l3"
   },
   "outputs": [],
   "source": [
    "import numpy as np\n",
    "import pandas as pd\n",
    "import matplotlib.pyplot as plt\n",
    "\n",
    "import tensorflow as tf"
   ]
  },
  {
   "cell_type": "markdown",
   "metadata": {
    "id": "7O0EOPeUQd4R"
   },
   "source": [
    "### DATASET\n",
    "\n",
    "---\n",
    "\n"
   ]
  },
  {
   "cell_type": "code",
   "execution_count": 2,
   "metadata": {
    "executionInfo": {
     "elapsed": 224,
     "status": "ok",
     "timestamp": 1644925166187,
     "user": {
      "displayName": "Petra Bajac",
      "photoUrl": "https://lh3.googleusercontent.com/a-/AOh14GisMWQ6Nwt62NYivub0ffOkvc3Im46ek_BgBPz3=s64",
      "userId": "17459354793322234878"
     },
     "user_tz": -60
    },
    "id": "5PJMY-nVXPwZ"
   },
   "outputs": [],
   "source": [
    "dataset = pd.read_csv(\"spam.csv\",\n",
    "                      encoding=\"latin1\")"
   ]
  },
  {
   "cell_type": "code",
   "execution_count": 3,
   "metadata": {
    "colab": {
     "base_uri": "https://localhost:8080/",
     "height": 206
    },
    "executionInfo": {
     "elapsed": 5,
     "status": "ok",
     "timestamp": 1644925167424,
     "user": {
      "displayName": "Petra Bajac",
      "photoUrl": "https://lh3.googleusercontent.com/a-/AOh14GisMWQ6Nwt62NYivub0ffOkvc3Im46ek_BgBPz3=s64",
      "userId": "17459354793322234878"
     },
     "user_tz": -60
    },
    "id": "Ad35R0yJ5Usk",
    "outputId": "e047bb05-3d93-4a62-98c3-6683b57ad276"
   },
   "outputs": [
    {
     "data": {
      "text/html": [
       "<div>\n",
       "<style scoped>\n",
       "    .dataframe tbody tr th:only-of-type {\n",
       "        vertical-align: middle;\n",
       "    }\n",
       "\n",
       "    .dataframe tbody tr th {\n",
       "        vertical-align: top;\n",
       "    }\n",
       "\n",
       "    .dataframe thead th {\n",
       "        text-align: right;\n",
       "    }\n",
       "</style>\n",
       "<table border=\"1\" class=\"dataframe\">\n",
       "  <thead>\n",
       "    <tr style=\"text-align: right;\">\n",
       "      <th></th>\n",
       "      <th>v1</th>\n",
       "      <th>v2</th>\n",
       "      <th>Unnamed: 2</th>\n",
       "      <th>Unnamed: 3</th>\n",
       "      <th>Unnamed: 4</th>\n",
       "    </tr>\n",
       "  </thead>\n",
       "  <tbody>\n",
       "    <tr>\n",
       "      <th>0</th>\n",
       "      <td>ham</td>\n",
       "      <td>Go until jurong point, crazy.. Available only ...</td>\n",
       "      <td>NaN</td>\n",
       "      <td>NaN</td>\n",
       "      <td>NaN</td>\n",
       "    </tr>\n",
       "    <tr>\n",
       "      <th>1</th>\n",
       "      <td>ham</td>\n",
       "      <td>Ok lar... Joking wif u oni...</td>\n",
       "      <td>NaN</td>\n",
       "      <td>NaN</td>\n",
       "      <td>NaN</td>\n",
       "    </tr>\n",
       "    <tr>\n",
       "      <th>2</th>\n",
       "      <td>spam</td>\n",
       "      <td>Free entry in 2 a wkly comp to win FA Cup fina...</td>\n",
       "      <td>NaN</td>\n",
       "      <td>NaN</td>\n",
       "      <td>NaN</td>\n",
       "    </tr>\n",
       "    <tr>\n",
       "      <th>3</th>\n",
       "      <td>ham</td>\n",
       "      <td>U dun say so early hor... U c already then say...</td>\n",
       "      <td>NaN</td>\n",
       "      <td>NaN</td>\n",
       "      <td>NaN</td>\n",
       "    </tr>\n",
       "    <tr>\n",
       "      <th>4</th>\n",
       "      <td>ham</td>\n",
       "      <td>Nah I don't think he goes to usf, he lives aro...</td>\n",
       "      <td>NaN</td>\n",
       "      <td>NaN</td>\n",
       "      <td>NaN</td>\n",
       "    </tr>\n",
       "  </tbody>\n",
       "</table>\n",
       "</div>"
      ],
      "text/plain": [
       "     v1                                                 v2 Unnamed: 2  \\\n",
       "0   ham  Go until jurong point, crazy.. Available only ...        NaN   \n",
       "1   ham                      Ok lar... Joking wif u oni...        NaN   \n",
       "2  spam  Free entry in 2 a wkly comp to win FA Cup fina...        NaN   \n",
       "3   ham  U dun say so early hor... U c already then say...        NaN   \n",
       "4   ham  Nah I don't think he goes to usf, he lives aro...        NaN   \n",
       "\n",
       "  Unnamed: 3 Unnamed: 4  \n",
       "0        NaN        NaN  \n",
       "1        NaN        NaN  \n",
       "2        NaN        NaN  \n",
       "3        NaN        NaN  \n",
       "4        NaN        NaN  "
      ]
     },
     "execution_count": 3,
     "metadata": {},
     "output_type": "execute_result"
    }
   ],
   "source": [
    "dataset.head()"
   ]
  },
  {
   "cell_type": "code",
   "execution_count": 4,
   "metadata": {
    "executionInfo": {
     "elapsed": 327,
     "status": "ok",
     "timestamp": 1644925168627,
     "user": {
      "displayName": "Petra Bajac",
      "photoUrl": "https://lh3.googleusercontent.com/a-/AOh14GisMWQ6Nwt62NYivub0ffOkvc3Im46ek_BgBPz3=s64",
      "userId": "17459354793322234878"
     },
     "user_tz": -60
    },
    "id": "cVd2Y0xK8gDz"
   },
   "outputs": [],
   "source": [
    "# get rid of unneccessary columns\n",
    "dataset.drop([\"Unnamed: 2\", \"Unnamed: 3\", \"Unnamed: 4\"],\n",
    "          axis=1,\n",
    "          inplace=True)"
   ]
  },
  {
   "cell_type": "code",
   "execution_count": 5,
   "metadata": {
    "executionInfo": {
     "elapsed": 309,
     "status": "ok",
     "timestamp": 1644925170048,
     "user": {
      "displayName": "Petra Bajac",
      "photoUrl": "https://lh3.googleusercontent.com/a-/AOh14GisMWQ6Nwt62NYivub0ffOkvc3Im46ek_BgBPz3=s64",
      "userId": "17459354793322234878"
     },
     "user_tz": -60
    },
    "id": "8Llqcbe88C6z"
   },
   "outputs": [],
   "source": [
    "dataset.columns = [\"labels\", \"text\"]"
   ]
  },
  {
   "cell_type": "code",
   "execution_count": 6,
   "metadata": {
    "colab": {
     "base_uri": "https://localhost:8080/",
     "height": 206
    },
    "executionInfo": {
     "elapsed": 5,
     "status": "ok",
     "timestamp": 1644925170984,
     "user": {
      "displayName": "Petra Bajac",
      "photoUrl": "https://lh3.googleusercontent.com/a-/AOh14GisMWQ6Nwt62NYivub0ffOkvc3Im46ek_BgBPz3=s64",
      "userId": "17459354793322234878"
     },
     "user_tz": -60
    },
    "id": "htknDT1q8MgK",
    "outputId": "4e6a344c-68c1-4400-8a5f-0e1f97f76256"
   },
   "outputs": [
    {
     "data": {
      "text/html": [
       "<div>\n",
       "<style scoped>\n",
       "    .dataframe tbody tr th:only-of-type {\n",
       "        vertical-align: middle;\n",
       "    }\n",
       "\n",
       "    .dataframe tbody tr th {\n",
       "        vertical-align: top;\n",
       "    }\n",
       "\n",
       "    .dataframe thead th {\n",
       "        text-align: right;\n",
       "    }\n",
       "</style>\n",
       "<table border=\"1\" class=\"dataframe\">\n",
       "  <thead>\n",
       "    <tr style=\"text-align: right;\">\n",
       "      <th></th>\n",
       "      <th>labels</th>\n",
       "      <th>text</th>\n",
       "    </tr>\n",
       "  </thead>\n",
       "  <tbody>\n",
       "    <tr>\n",
       "      <th>0</th>\n",
       "      <td>ham</td>\n",
       "      <td>Go until jurong point, crazy.. Available only ...</td>\n",
       "    </tr>\n",
       "    <tr>\n",
       "      <th>1</th>\n",
       "      <td>ham</td>\n",
       "      <td>Ok lar... Joking wif u oni...</td>\n",
       "    </tr>\n",
       "    <tr>\n",
       "      <th>2</th>\n",
       "      <td>spam</td>\n",
       "      <td>Free entry in 2 a wkly comp to win FA Cup fina...</td>\n",
       "    </tr>\n",
       "    <tr>\n",
       "      <th>3</th>\n",
       "      <td>ham</td>\n",
       "      <td>U dun say so early hor... U c already then say...</td>\n",
       "    </tr>\n",
       "    <tr>\n",
       "      <th>4</th>\n",
       "      <td>ham</td>\n",
       "      <td>Nah I don't think he goes to usf, he lives aro...</td>\n",
       "    </tr>\n",
       "  </tbody>\n",
       "</table>\n",
       "</div>"
      ],
      "text/plain": [
       "  labels                                               text\n",
       "0    ham  Go until jurong point, crazy.. Available only ...\n",
       "1    ham                      Ok lar... Joking wif u oni...\n",
       "2   spam  Free entry in 2 a wkly comp to win FA Cup fina...\n",
       "3    ham  U dun say so early hor... U c already then say...\n",
       "4    ham  Nah I don't think he goes to usf, he lives aro..."
      ]
     },
     "execution_count": 6,
     "metadata": {},
     "output_type": "execute_result"
    }
   ],
   "source": [
    "dataset.head()"
   ]
  },
  {
   "cell_type": "code",
   "execution_count": 7,
   "metadata": {
    "executionInfo": {
     "elapsed": 2,
     "status": "ok",
     "timestamp": 1644925172073,
     "user": {
      "displayName": "Petra Bajac",
      "photoUrl": "https://lh3.googleusercontent.com/a-/AOh14GisMWQ6Nwt62NYivub0ffOkvc3Im46ek_BgBPz3=s64",
      "userId": "17459354793322234878"
     },
     "user_tz": -60
    },
    "id": "OCdl6JcYio8v"
   },
   "outputs": [],
   "source": [
    "# change labels\n",
    "data_labels = dataset[\"labels\"].values\n",
    "data_labels[data_labels == \"spam\"] = 1\n",
    "data_labels[data_labels == \"ham\"] = 0"
   ]
  },
  {
   "cell_type": "code",
   "execution_count": 8,
   "metadata": {
    "colab": {
     "base_uri": "https://localhost:8080/",
     "height": 206
    },
    "executionInfo": {
     "elapsed": 222,
     "status": "ok",
     "timestamp": 1644925173230,
     "user": {
      "displayName": "Petra Bajac",
      "photoUrl": "https://lh3.googleusercontent.com/a-/AOh14GisMWQ6Nwt62NYivub0ffOkvc3Im46ek_BgBPz3=s64",
      "userId": "17459354793322234878"
     },
     "user_tz": -60
    },
    "id": "SknRLf_D6GNk",
    "outputId": "5db1cc7f-20cb-46b7-9d91-a1d385d1e5ce"
   },
   "outputs": [
    {
     "data": {
      "text/html": [
       "<div>\n",
       "<style scoped>\n",
       "    .dataframe tbody tr th:only-of-type {\n",
       "        vertical-align: middle;\n",
       "    }\n",
       "\n",
       "    .dataframe tbody tr th {\n",
       "        vertical-align: top;\n",
       "    }\n",
       "\n",
       "    .dataframe thead th {\n",
       "        text-align: right;\n",
       "    }\n",
       "</style>\n",
       "<table border=\"1\" class=\"dataframe\">\n",
       "  <thead>\n",
       "    <tr style=\"text-align: right;\">\n",
       "      <th></th>\n",
       "      <th>labels</th>\n",
       "      <th>text</th>\n",
       "    </tr>\n",
       "  </thead>\n",
       "  <tbody>\n",
       "    <tr>\n",
       "      <th>0</th>\n",
       "      <td>0</td>\n",
       "      <td>Go until jurong point, crazy.. Available only ...</td>\n",
       "    </tr>\n",
       "    <tr>\n",
       "      <th>1</th>\n",
       "      <td>0</td>\n",
       "      <td>Ok lar... Joking wif u oni...</td>\n",
       "    </tr>\n",
       "    <tr>\n",
       "      <th>2</th>\n",
       "      <td>1</td>\n",
       "      <td>Free entry in 2 a wkly comp to win FA Cup fina...</td>\n",
       "    </tr>\n",
       "    <tr>\n",
       "      <th>3</th>\n",
       "      <td>0</td>\n",
       "      <td>U dun say so early hor... U c already then say...</td>\n",
       "    </tr>\n",
       "    <tr>\n",
       "      <th>4</th>\n",
       "      <td>0</td>\n",
       "      <td>Nah I don't think he goes to usf, he lives aro...</td>\n",
       "    </tr>\n",
       "  </tbody>\n",
       "</table>\n",
       "</div>"
      ],
      "text/plain": [
       "  labels                                               text\n",
       "0      0  Go until jurong point, crazy.. Available only ...\n",
       "1      0                      Ok lar... Joking wif u oni...\n",
       "2      1  Free entry in 2 a wkly comp to win FA Cup fina...\n",
       "3      0  U dun say so early hor... U c already then say...\n",
       "4      0  Nah I don't think he goes to usf, he lives aro..."
      ]
     },
     "execution_count": 8,
     "metadata": {},
     "output_type": "execute_result"
    }
   ],
   "source": [
    "dataset.head()"
   ]
  },
  {
   "cell_type": "code",
   "execution_count": 9,
   "metadata": {
    "colab": {
     "base_uri": "https://localhost:8080/"
    },
    "executionInfo": {
     "elapsed": 344,
     "status": "ok",
     "timestamp": 1644925174814,
     "user": {
      "displayName": "Petra Bajac",
      "photoUrl": "https://lh3.googleusercontent.com/a-/AOh14GisMWQ6Nwt62NYivub0ffOkvc3Im46ek_BgBPz3=s64",
      "userId": "17459354793322234878"
     },
     "user_tz": -60
    },
    "id": "wgbabJCG6mw-",
    "outputId": "f75b3079-edf5-41f8-a40f-db497d4871c6"
   },
   "outputs": [
    {
     "data": {
      "text/plain": [
       "0    4825\n",
       "1     747\n",
       "Name: labels, dtype: int64"
      ]
     },
     "execution_count": 9,
     "metadata": {},
     "output_type": "execute_result"
    }
   ],
   "source": [
    "dataset[\"labels\"].value_counts()"
   ]
  },
  {
   "cell_type": "code",
   "execution_count": 10,
   "metadata": {
    "colab": {
     "base_uri": "https://localhost:8080/",
     "height": 427
    },
    "executionInfo": {
     "elapsed": 516,
     "status": "ok",
     "timestamp": 1644925176260,
     "user": {
      "displayName": "Petra Bajac",
      "photoUrl": "https://lh3.googleusercontent.com/a-/AOh14GisMWQ6Nwt62NYivub0ffOkvc3Im46ek_BgBPz3=s64",
      "userId": "17459354793322234878"
     },
     "user_tz": -60
    },
    "id": "L2yb3X2Jnir0",
    "outputId": "8f33e163-9dcd-47a2-ae90-e0ae55924754"
   },
   "outputs": [
    {
     "data": {
      "image/png": "[encoded data removed]",
      "text/plain": [
       "<Figure size 504x504 with 1 Axes>"
      ]
     },
     "metadata": {},
     "output_type": "display_data"
    }
   ],
   "source": [
    "# check if the dataset is balanced\n",
    "labels = [\"not_spam\", \"spam\"]\n",
    "colors = [\"olivedrab\", \"silver\"]\n",
    "\n",
    "plt.figure(figsize=(7,7))\n",
    "plt.pie(dataset[\"labels\"].value_counts(), labels=labels, colors=colors, autopct=\"%1.1f%%\")\n",
    "plt.legend(title = \"Spam status\")\n",
    "plt.title(\"Dataset distribution\")\n",
    "plt.show()"
   ]
  },
  {
   "cell_type": "markdown",
   "metadata": {
    "id": "B5b8PhnMQutp"
   },
   "source": [
    "### DATA PREPROCESSING\n",
    "\n",
    "---\n",
    "\n"
   ]
  },
  {
   "cell_type": "code",
   "execution_count": 11,
   "metadata": {
    "executionInfo": {
     "elapsed": 215,
     "status": "ok",
     "timestamp": 1644925799540,
     "user": {
      "displayName": "Petra Bajac",
      "photoUrl": "https://lh3.googleusercontent.com/a-/AOh14GisMWQ6Nwt62NYivub0ffOkvc3Im46ek_BgBPz3=s64",
      "userId": "17459354793322234878"
     },
     "user_tz": -60
    },
    "id": "UMw9InhL99h5"
   },
   "outputs": [],
   "source": [
    "X = dataset[\"text\"]\n",
    "y = dataset[\"labels\"]"
   ]
  },
  {
   "cell_type": "code",
   "execution_count": 12,
   "metadata": {
    "colab": {
     "base_uri": "https://localhost:8080/"
    },
    "executionInfo": {
     "elapsed": 224,
     "status": "ok",
     "timestamp": 1644925800986,
     "user": {
      "displayName": "Petra Bajac",
      "photoUrl": "https://lh3.googleusercontent.com/a-/AOh14GisMWQ6Nwt62NYivub0ffOkvc3Im46ek_BgBPz3=s64",
      "userId": "17459354793322234878"
     },
     "user_tz": -60
    },
    "id": "A8RWmBn__HgB",
    "outputId": "01844495-842b-46a4-8430-fcc93408974e"
   },
   "outputs": [
    {
     "data": {
      "text/plain": [
       "(5572,)"
      ]
     },
     "execution_count": 12,
     "metadata": {},
     "output_type": "execute_result"
    }
   ],
   "source": [
    "X.shape"
   ]
  },
  {
   "cell_type": "code",
   "execution_count": 13,
   "metadata": {
    "colab": {
     "base_uri": "https://localhost:8080/"
    },
    "executionInfo": {
     "elapsed": 2,
     "status": "ok",
     "timestamp": 1644925801814,
     "user": {
      "displayName": "Petra Bajac",
      "photoUrl": "https://lh3.googleusercontent.com/a-/AOh14GisMWQ6Nwt62NYivub0ffOkvc3Im46ek_BgBPz3=s64",
      "userId": "17459354793322234878"
     },
     "user_tz": -60
    },
    "id": "eHsB1Yfw_IoB",
    "outputId": "abd5cbc8-b776-4101-b001-d6c0046a6e12"
   },
   "outputs": [
    {
     "data": {
      "text/plain": [
       "(5572,)"
      ]
     },
     "execution_count": 13,
     "metadata": {},
     "output_type": "execute_result"
    }
   ],
   "source": [
    "y.shape"
   ]
  },
  {
   "cell_type": "markdown",
   "metadata": {
    "id": "Jwmp_9FJFahE"
   },
   "source": [
    "**EMBEDDING**\n",
    "\n",
    "---\n",
    "\n"
   ]
  },
  {
   "cell_type": "code",
   "execution_count": 14,
   "metadata": {
    "executionInfo": {
     "elapsed": 208,
     "status": "ok",
     "timestamp": 1644925803366,
     "user": {
      "displayName": "Petra Bajac",
      "photoUrl": "https://lh3.googleusercontent.com/a-/AOh14GisMWQ6Nwt62NYivub0ffOkvc3Im46ek_BgBPz3=s64",
      "userId": "17459354793322234878"
     },
     "user_tz": -60
    },
    "id": "yQYogq_j-SwT"
   },
   "outputs": [],
   "source": [
    "from keras.preprocessing.text import Tokenizer\n",
    "\n",
    "tokenizer = Tokenizer()\n",
    "tokenizer.fit_on_texts(X)"
   ]
  },
  {
   "cell_type": "code",
   "execution_count": 15,
   "metadata": {
    "executionInfo": {
     "elapsed": 2,
     "status": "ok",
     "timestamp": 1644925804408,
     "user": {
      "displayName": "Petra Bajac",
      "photoUrl": "https://lh3.googleusercontent.com/a-/AOh14GisMWQ6Nwt62NYivub0ffOkvc3Im46ek_BgBPz3=s64",
      "userId": "17459354793322234878"
     },
     "user_tz": -60
    },
    "id": "4J3PiQXU-dSj"
   },
   "outputs": [],
   "source": [
    "embedded_data = tokenizer.texts_to_sequences(X)"
   ]
  },
  {
   "cell_type": "markdown",
   "metadata": {
    "id": "CFu7eiopFc3z"
   },
   "source": [
    "**PADDING**\n",
    "\n",
    "---\n",
    "\n"
   ]
  },
  {
   "cell_type": "code",
   "execution_count": 16,
   "metadata": {
    "executionInfo": {
     "elapsed": 1,
     "status": "ok",
     "timestamp": 1644925805533,
     "user": {
      "displayName": "Petra Bajac",
      "photoUrl": "https://lh3.googleusercontent.com/a-/AOh14GisMWQ6Nwt62NYivub0ffOkvc3Im46ek_BgBPz3=s64",
      "userId": "17459354793322234878"
     },
     "user_tz": -60
    },
    "id": "j9_ACPZ79jyS"
   },
   "outputs": [],
   "source": [
    "from keras.preprocessing.sequence import pad_sequences\n",
    "\n",
    "# pad to the longest tweet in the dataset\n",
    "max_length = max([len(text) for text in X])\n",
    "\n",
    "X = pad_sequences(embedded_data,\n",
    "                  value=0,\n",
    "                  padding=\"post\",\n",
    "                  maxlen=max_length)"
   ]
  },
  {
   "cell_type": "code",
   "execution_count": 17,
   "metadata": {
    "colab": {
     "base_uri": "https://localhost:8080/"
    },
    "executionInfo": {
     "elapsed": 2,
     "status": "ok",
     "timestamp": 1644925806345,
     "user": {
      "displayName": "Petra Bajac",
      "photoUrl": "https://lh3.googleusercontent.com/a-/AOh14GisMWQ6Nwt62NYivub0ffOkvc3Im46ek_BgBPz3=s64",
      "userId": "17459354793322234878"
     },
     "user_tz": -60
    },
    "id": "JI3c0Vo59nmS",
    "outputId": "2fe81320-0325-4943-caf7-4e4feff8b7ae"
   },
   "outputs": [
    {
     "data": {
      "text/plain": [
       "array([[  50,  469, 4410, ...,    0,    0,    0],\n",
       "       [  46,  336, 1495, ...,    0,    0,    0],\n",
       "       [  47,  486,    8, ...,    0,    0,    0],\n",
       "       [   6,  245,  152, ...,    0,    0,    0],\n",
       "       [1018,    1,   98, ...,    0,    0,    0]])"
      ]
     },
     "execution_count": 17,
     "metadata": {},
     "output_type": "execute_result"
    }
   ],
   "source": [
    "X[:5]"
   ]
  },
  {
   "cell_type": "markdown",
   "metadata": {
    "id": "5uX1jZHpQ3AJ"
   },
   "source": [
    "### TRAIN/TEST/VALIDATION SPLIT\n",
    "\n",
    "---\n",
    "\n"
   ]
  },
  {
   "cell_type": "code",
   "execution_count": 18,
   "metadata": {
    "executionInfo": {
     "elapsed": 235,
     "status": "ok",
     "timestamp": 1644934883517,
     "user": {
      "displayName": "Petra Bajac",
      "photoUrl": "https://lh3.googleusercontent.com/a-/AOh14GisMWQ6Nwt62NYivub0ffOkvc3Im46ek_BgBPz3=s64",
      "userId": "17459354793322234878"
     },
     "user_tz": -60
    },
    "id": "OVMzfOdA9IGK"
   },
   "outputs": [],
   "source": [
    "from sklearn.model_selection import train_test_split\n",
    "X_train, X_remaining, y_train, y_remaining = train_test_split(X, y, test_size = 0.2)"
   ]
  },
  {
   "cell_type": "code",
   "execution_count": 19,
   "metadata": {
    "executionInfo": {
     "elapsed": 1,
     "status": "ok",
     "timestamp": 1644934884532,
     "user": {
      "displayName": "Petra Bajac",
      "photoUrl": "https://lh3.googleusercontent.com/a-/AOh14GisMWQ6Nwt62NYivub0ffOkvc3Im46ek_BgBPz3=s64",
      "userId": "17459354793322234878"
     },
     "user_tz": -60
    },
    "id": "84vRDmwgDV82"
   },
   "outputs": [],
   "source": [
    "# second split for the validation set\n",
    "X_valid, X_test, y_valid, y_test = train_test_split(X_remaining, y_remaining, test_size = 0.5)"
   ]
  },
  {
   "cell_type": "code",
   "execution_count": 20,
   "metadata": {
    "colab": {
     "base_uri": "https://localhost:8080/"
    },
    "executionInfo": {
     "elapsed": 2,
     "status": "ok",
     "timestamp": 1644934325224,
     "user": {
      "displayName": "Petra Bajac",
      "photoUrl": "https://lh3.googleusercontent.com/a-/AOh14GisMWQ6Nwt62NYivub0ffOkvc3Im46ek_BgBPz3=s64",
      "userId": "17459354793322234878"
     },
     "user_tz": -60
    },
    "id": "r1Hnb-tf_WTZ",
    "outputId": "a76f773f-1a58-4d7d-a579-81f8972051e1"
   },
   "outputs": [
    {
     "data": {
      "text/plain": [
       "array([[   1,   62,   25, ...,    0,    0,    0],\n",
       "       [ 244,  665,   12, ...,    0,    0,    0],\n",
       "       [ 301,   89,  103, ...,    0,    0,    0],\n",
       "       [7794,  135,  101, ...,    0,    0,    0],\n",
       "       [   1, 2013, 2223, ...,    0,    0,    0]])"
      ]
     },
     "execution_count": 20,
     "metadata": {},
     "output_type": "execute_result"
    }
   ],
   "source": [
    "X_train[:5]"
   ]
  },
  {
   "cell_type": "code",
   "execution_count": 21,
   "metadata": {
    "colab": {
     "base_uri": "https://localhost:8080/"
    },
    "executionInfo": {
     "elapsed": 2,
     "status": "ok",
     "timestamp": 1644934326231,
     "user": {
      "displayName": "Petra Bajac",
      "photoUrl": "https://lh3.googleusercontent.com/a-/AOh14GisMWQ6Nwt62NYivub0ffOkvc3Im46ek_BgBPz3=s64",
      "userId": "17459354793322234878"
     },
     "user_tz": -60
    },
    "id": "8tkmE7AaBJxQ",
    "outputId": "6d8cfb14-b6f7-434c-e38a-048842313d35"
   },
   "outputs": [
    {
     "data": {
      "text/plain": [
       "array([[126,   3,  22, ...,   0,   0,   0],\n",
       "       [ 25, 162, 548, ...,   0,   0,   0],\n",
       "       [362, 281,  49, ...,   0,   0,   0],\n",
       "       [ 95, 415,  14, ...,   0,   0,   0],\n",
       "       [306, 312, 131, ...,   0,   0,   0]])"
      ]
     },
     "execution_count": 21,
     "metadata": {},
     "output_type": "execute_result"
    }
   ],
   "source": [
    "X_test[:5]"
   ]
  },
  {
   "cell_type": "code",
   "execution_count": 22,
   "metadata": {
    "colab": {
     "base_uri": "https://localhost:8080/"
    },
    "executionInfo": {
     "elapsed": 3,
     "status": "ok",
     "timestamp": 1644934327202,
     "user": {
      "displayName": "Petra Bajac",
      "photoUrl": "https://lh3.googleusercontent.com/a-/AOh14GisMWQ6Nwt62NYivub0ffOkvc3Im46ek_BgBPz3=s64",
      "userId": "17459354793322234878"
     },
     "user_tz": -60
    },
    "id": "SG-4XYJpDczX",
    "outputId": "966e8a07-59ad-423d-fd61-8034254247d3"
   },
   "outputs": [
    {
     "data": {
      "text/plain": [
       "array([[5509,    1, 5510, ...,    0,    0,    0],\n",
       "       [   1,   62,  269, ...,    0,    0,    0],\n",
       "       [ 903,    6,  391, ...,    0,    0,    0],\n",
       "       [  12,   35,  334, ...,    0,    0,    0],\n",
       "       [  59,  407,  616, ...,    0,    0,    0]])"
      ]
     },
     "execution_count": 22,
     "metadata": {},
     "output_type": "execute_result"
    }
   ],
   "source": [
    "X_valid[:5]"
   ]
  },
  {
   "cell_type": "code",
   "execution_count": 23,
   "metadata": {
    "colab": {
     "base_uri": "https://localhost:8080/"
    },
    "executionInfo": {
     "elapsed": 2,
     "status": "ok",
     "timestamp": 1644934328253,
     "user": {
      "displayName": "Petra Bajac",
      "photoUrl": "https://lh3.googleusercontent.com/a-/AOh14GisMWQ6Nwt62NYivub0ffOkvc3Im46ek_BgBPz3=s64",
      "userId": "17459354793322234878"
     },
     "user_tz": -60
    },
    "id": "otuzkqGBDdEu",
    "outputId": "6a205c74-088d-4c84-d360-0fc5b1958431"
   },
   "outputs": [
    {
     "data": {
      "text/plain": [
       "1354    0\n",
       "2250    0\n",
       "17      0\n",
       "2778    1\n",
       "396     0\n",
       "Name: labels, dtype: object"
      ]
     },
     "execution_count": 23,
     "metadata": {},
     "output_type": "execute_result"
    }
   ],
   "source": [
    "y_valid[:5]"
   ]
  },
  {
   "cell_type": "code",
   "execution_count": 24,
   "metadata": {
    "colab": {
     "base_uri": "https://localhost:8080/"
    },
    "executionInfo": {
     "elapsed": 4,
     "status": "ok",
     "timestamp": 1644934329235,
     "user": {
      "displayName": "Petra Bajac",
      "photoUrl": "https://lh3.googleusercontent.com/a-/AOh14GisMWQ6Nwt62NYivub0ffOkvc3Im46ek_BgBPz3=s64",
      "userId": "17459354793322234878"
     },
     "user_tz": -60
    },
    "id": "UipkHjXO_XJ5",
    "outputId": "25792eb1-6dab-4a81-9ed2-7d13bb8becc1"
   },
   "outputs": [
    {
     "data": {
      "text/plain": [
       "966     0\n",
       "4498    1\n",
       "2933    0\n",
       "4141    0\n",
       "5218    0\n",
       "Name: labels, dtype: object"
      ]
     },
     "execution_count": 24,
     "metadata": {},
     "output_type": "execute_result"
    }
   ],
   "source": [
    "y_train[:5]"
   ]
  },
  {
   "cell_type": "code",
   "execution_count": 25,
   "metadata": {
    "colab": {
     "base_uri": "https://localhost:8080/"
    },
    "executionInfo": {
     "elapsed": 222,
     "status": "ok",
     "timestamp": 1644934330912,
     "user": {
      "displayName": "Petra Bajac",
      "photoUrl": "https://lh3.googleusercontent.com/a-/AOh14GisMWQ6Nwt62NYivub0ffOkvc3Im46ek_BgBPz3=s64",
      "userId": "17459354793322234878"
     },
     "user_tz": -60
    },
    "id": "lHvhNEglBGFA",
    "outputId": "51c98961-d31a-4b2e-a7b7-f5e1507f0e9a"
   },
   "outputs": [
    {
     "data": {
      "text/plain": [
       "1934    0\n",
       "317     0\n",
       "5328    0\n",
       "3878    0\n",
       "1974    0\n",
       "Name: labels, dtype: object"
      ]
     },
     "execution_count": 25,
     "metadata": {},
     "output_type": "execute_result"
    }
   ],
   "source": [
    "y_test[:5]"
   ]
  },
  {
   "cell_type": "markdown",
   "metadata": {
    "id": "GjndbhOQSHwP"
   },
   "source": [
    "### RANDOM FOREST"
   ]
  },
  {
   "cell_type": "markdown",
   "metadata": {
    "id": "Kam4ZR5LScp-"
   },
   "source": [
    "**MODEL CONFIGURATION**\n",
    "\n",
    "---\n",
    "\n"
   ]
  },
  {
   "cell_type": "code",
   "execution_count": 26,
   "metadata": {
    "executionInfo": {
     "elapsed": 219,
     "status": "ok",
     "timestamp": 1644935278678,
     "user": {
      "displayName": "Petra Bajac",
      "photoUrl": "https://lh3.googleusercontent.com/a-/AOh14GisMWQ6Nwt62NYivub0ffOkvc3Im46ek_BgBPz3=s64",
      "userId": "17459354793322234878"
     },
     "user_tz": -60
    },
    "id": "1UuPN4HIAIc3"
   },
   "outputs": [],
   "source": [
    "from sklearn.ensemble import RandomForestClassifier\n",
    "\n",
    "RF_classifier = RandomForestClassifier(n_estimators = 10, criterion = 'entropy')"
   ]
  },
  {
   "cell_type": "markdown",
   "metadata": {
    "id": "eF5D8N0fSfRW"
   },
   "source": [
    "**MODEL TRAINING**\n",
    "\n",
    "---\n",
    "\n"
   ]
  },
  {
   "cell_type": "code",
   "execution_count": 27,
   "metadata": {
    "colab": {
     "base_uri": "https://localhost:8080/"
    },
    "executionInfo": {
     "elapsed": 211,
     "status": "ok",
     "timestamp": 1644935280212,
     "user": {
      "displayName": "Petra Bajac",
      "photoUrl": "https://lh3.googleusercontent.com/a-/AOh14GisMWQ6Nwt62NYivub0ffOkvc3Im46ek_BgBPz3=s64",
      "userId": "17459354793322234878"
     },
     "user_tz": -60
    },
    "id": "4n-2LUx7AJwM",
    "outputId": "143ccedf-292b-4930-ea4d-83396e0c396f"
   },
   "outputs": [
    {
     "data": {
      "text/plain": [
       "RandomForestClassifier(criterion='entropy', n_estimators=10)"
      ]
     },
     "execution_count": 27,
     "metadata": {},
     "output_type": "execute_result"
    }
   ],
   "source": [
    "RF_classifier.fit(X_train, y_train.astype('int'))"
   ]
  },
  {
   "cell_type": "markdown",
   "metadata": {
    "id": "uPrgRPQTShm3"
   },
   "source": [
    "**MODEL EVALUATION**\n",
    "\n",
    "---\n",
    "\n"
   ]
  },
  {
   "cell_type": "code",
   "execution_count": 28,
   "metadata": {
    "executionInfo": {
     "elapsed": 254,
     "status": "ok",
     "timestamp": 1644935283274,
     "user": {
      "displayName": "Petra Bajac",
      "photoUrl": "https://lh3.googleusercontent.com/a-/AOh14GisMWQ6Nwt62NYivub0ffOkvc3Im46ek_BgBPz3=s64",
      "userId": "17459354793322234878"
     },
     "user_tz": -60
    },
    "id": "i5QWtNLcAKFo"
   },
   "outputs": [],
   "source": [
    "y_pred = RF_classifier.predict(X_test)"
   ]
  },
  {
   "cell_type": "code",
   "execution_count": 29,
   "metadata": {
    "colab": {
     "base_uri": "https://localhost:8080/"
    },
    "executionInfo": {
     "elapsed": 2,
     "status": "ok",
     "timestamp": 1644935284571,
     "user": {
      "displayName": "Petra Bajac",
      "photoUrl": "https://lh3.googleusercontent.com/a-/AOh14GisMWQ6Nwt62NYivub0ffOkvc3Im46ek_BgBPz3=s64",
      "userId": "17459354793322234878"
     },
     "user_tz": -60
    },
    "id": "5TkqXLry4tKH",
    "outputId": "d8f91fec-691e-4acb-c8eb-7a0f4070585a"
   },
   "outputs": [
    {
     "name": "stdout",
     "output_type": "stream",
     "text": [
      "              precision    recall  f1-score   support\n",
      "\n",
      "           0       0.94      0.98      0.96       495\n",
      "           1       0.79      0.52      0.63        63\n",
      "\n",
      "    accuracy                           0.93       558\n",
      "   macro avg       0.86      0.75      0.79       558\n",
      "weighted avg       0.92      0.93      0.92       558\n",
      "\n"
     ]
    }
   ],
   "source": [
    "from sklearn.metrics import classification_report\n",
    "\n",
    "print(classification_report(y_test.astype('int'), y_pred.astype('int')))"
   ]
  },
  {
   "cell_type": "markdown",
   "metadata": {
    "id": "Ppt2b8CiSjWu"
   },
   "source": [
    "**NEW PREDICTIONS**\n",
    "\n",
    "---\n",
    "\n"
   ]
  },
  {
   "cell_type": "code",
   "execution_count": 30,
   "metadata": {
    "executionInfo": {
     "elapsed": 248,
     "status": "ok",
     "timestamp": 1644935430717,
     "user": {
      "displayName": "Petra Bajac",
      "photoUrl": "https://lh3.googleusercontent.com/a-/AOh14GisMWQ6Nwt62NYivub0ffOkvc3Im46ek_BgBPz3=s64",
      "userId": "17459354793322234878"
     },
     "user_tz": -60
    },
    "id": "iEHK5PqjEO7u"
   },
   "outputs": [],
   "source": [
    "my_message = [\"hi r u lookin 4 saucy fun wiv busty woman am free sex chat now +491574546387\"]"
   ]
  },
  {
   "cell_type": "code",
   "execution_count": 31,
   "metadata": {
    "executionInfo": {
     "elapsed": 1,
     "status": "ok",
     "timestamp": 1644935431753,
     "user": {
      "displayName": "Petra Bajac",
      "photoUrl": "https://lh3.googleusercontent.com/a-/AOh14GisMWQ6Nwt62NYivub0ffOkvc3Im46ek_BgBPz3=s64",
      "userId": "17459354793322234878"
     },
     "user_tz": -60
    },
    "id": "EDo94TIBCSeH"
   },
   "outputs": [],
   "source": [
    "def preprocess(text):\n",
    "  text = tokenizer.texts_to_sequences(text)\n",
    "  text = np.array(text)\n",
    "  text = pad_sequences(text,\n",
    "                      value=0,\n",
    "                      padding=\"post\",\n",
    "                      maxlen=max_length)\n",
    "  return text"
   ]
  },
  {
   "cell_type": "code",
   "execution_count": 32,
   "metadata": {
    "executionInfo": {
     "elapsed": 1,
     "status": "ok",
     "timestamp": 1644935432860,
     "user": {
      "displayName": "Petra Bajac",
      "photoUrl": "https://lh3.googleusercontent.com/a-/AOh14GisMWQ6Nwt62NYivub0ffOkvc3Im46ek_BgBPz3=s64",
      "userId": "17459354793322234878"
     },
     "user_tz": -60
    },
    "id": "qE7XjgpFJEa8"
   },
   "outputs": [],
   "source": [
    "new_message = preprocess(my_message)"
   ]
  },
  {
   "cell_type": "code",
   "execution_count": 33,
   "metadata": {
    "executionInfo": {
     "elapsed": 2,
     "status": "ok",
     "timestamp": 1644935433706,
     "user": {
      "displayName": "Petra Bajac",
      "photoUrl": "https://lh3.googleusercontent.com/a-/AOh14GisMWQ6Nwt62NYivub0ffOkvc3Im46ek_BgBPz3=s64",
      "userId": "17459354793322234878"
     },
     "user_tz": -60
    },
    "id": "5Mg5_K79AKoG"
   },
   "outputs": [],
   "source": [
    "output = RF_classifier.predict(new_message)\n",
    "\n",
    "def prediction(output):\n",
    "   if output[0] == 1:\n",
    "     return \"spam\"\n",
    "   else:\n",
    "     return \"not_spam\""
   ]
  },
  {
   "cell_type": "code",
   "execution_count": 34,
   "metadata": {
    "colab": {
     "base_uri": "https://localhost:8080/",
     "height": 35
    },
    "executionInfo": {
     "elapsed": 3,
     "status": "ok",
     "timestamp": 1644935434514,
     "user": {
      "displayName": "Petra Bajac",
      "photoUrl": "https://lh3.googleusercontent.com/a-/AOh14GisMWQ6Nwt62NYivub0ffOkvc3Im46ek_BgBPz3=s64",
      "userId": "17459354793322234878"
     },
     "user_tz": -60
    },
    "id": "iDqxZe7CkFnK",
    "outputId": "ad57033e-af06-46d6-e75f-f004e202eff3"
   },
   "outputs": [
    {
     "data": {
      "text/plain": [
       "'not_spam'"
      ]
     },
     "execution_count": 34,
     "metadata": {},
     "output_type": "execute_result"
    }
   ],
   "source": [
    "# so wrong\n",
    "prediction(output)"
   ]
  },
  {
   "cell_type": "markdown",
   "metadata": {
    "id": "p6wEhMJIRPxw"
   },
   "source": [
    "### RECURRENT NEURAL NETWORK"
   ]
  },
  {
   "cell_type": "markdown",
   "metadata": {
    "id": "KsfmMGbsQ5JZ"
   },
   "source": [
    "**MODEL CONFIGURATION**\n",
    "\n",
    "---\n",
    "\n"
   ]
  },
  {
   "cell_type": "code",
   "execution_count": 35,
   "metadata": {
    "executionInfo": {
     "elapsed": 253,
     "status": "ok",
     "timestamp": 1644932151044,
     "user": {
      "displayName": "Petra Bajac",
      "photoUrl": "https://lh3.googleusercontent.com/a-/AOh14GisMWQ6Nwt62NYivub0ffOkvc3Im46ek_BgBPz3=s64",
      "userId": "17459354793322234878"
     },
     "user_tz": -60
    },
    "id": "SQb4UkBp26SJ"
   },
   "outputs": [],
   "source": [
    "from keras.models import Sequential\n",
    "from keras.layers import Input, Embedding, LSTM, GlobalMaxPool1D, Dense, Dropout, BatchNormalization"
   ]
  },
  {
   "cell_type": "code",
   "execution_count": 36,
   "metadata": {
    "executionInfo": {
     "elapsed": 229,
     "status": "ok",
     "timestamp": 1644934357199,
     "user": {
      "displayName": "Petra Bajac",
      "photoUrl": "https://lh3.googleusercontent.com/a-/AOh14GisMWQ6Nwt62NYivub0ffOkvc3Im46ek_BgBPz3=s64",
      "userId": "17459354793322234878"
     },
     "user_tz": -60
    },
    "id": "CZ1lUGwRSXMP"
   },
   "outputs": [],
   "source": [
    "INPUT_SHAPE = X_train.shape[1]\n",
    "VOCABULARY_SIZE = len(tokenizer.word_index)\n",
    "EMBEDDING_DIMENSION = 20\n",
    "LSTM_UNITS = 15"
   ]
  },
  {
   "cell_type": "code",
   "execution_count": 37,
   "metadata": {
    "executionInfo": {
     "elapsed": 1142,
     "status": "ok",
     "timestamp": 1644934441042,
     "user": {
      "displayName": "Petra Bajac",
      "photoUrl": "https://lh3.googleusercontent.com/a-/AOh14GisMWQ6Nwt62NYivub0ffOkvc3Im46ek_BgBPz3=s64",
      "userId": "17459354793322234878"
     },
     "user_tz": -60
    },
    "id": "zWkkHguwHCvV"
   },
   "outputs": [],
   "source": [
    "rnn = Sequential()\n",
    "\n",
    "rnn.add(Input(INPUT_SHAPE,))\n",
    "# +1 here resolves the indexing problem during training\n",
    "rnn.add(Embedding(VOCABULARY_SIZE+1, EMBEDDING_DIMENSION))\n",
    "\n",
    "rnn.add(LSTM(LSTM_UNITS, return_sequences=True))\n",
    "\n",
    "rnn.add(GlobalMaxPool1D())\n",
    "\n",
    "rnn.add(Dense(units=1, activation=\"sigmoid\"))"
   ]
  },
  {
   "cell_type": "code",
   "execution_count": 38,
   "metadata": {
    "executionInfo": {
     "elapsed": 228,
     "status": "ok",
     "timestamp": 1644934442636,
     "user": {
      "displayName": "Petra Bajac",
      "photoUrl": "https://lh3.googleusercontent.com/a-/AOh14GisMWQ6Nwt62NYivub0ffOkvc3Im46ek_BgBPz3=s64",
      "userId": "17459354793322234878"
     },
     "user_tz": -60
    },
    "id": "j4fZw47B8Z3R"
   },
   "outputs": [],
   "source": [
    "rnn.compile(optimizer=\"adam\", loss=\"binary_crossentropy\", metrics=[\"accuracy\"])"
   ]
  },
  {
   "cell_type": "code",
   "execution_count": 39,
   "metadata": {
    "colab": {
     "base_uri": "https://localhost:8080/"
    },
    "executionInfo": {
     "elapsed": 355,
     "status": "ok",
     "timestamp": 1644934443826,
     "user": {
      "displayName": "Petra Bajac",
      "photoUrl": "https://lh3.googleusercontent.com/a-/AOh14GisMWQ6Nwt62NYivub0ffOkvc3Im46ek_BgBPz3=s64",
      "userId": "17459354793322234878"
     },
     "user_tz": -60
    },
    "id": "BzaByCkK8aJx",
    "outputId": "88adceaf-001d-4cf2-ffc4-a130773c57ef"
   },
   "outputs": [
    {
     "name": "stdout",
     "output_type": "stream",
     "text": [
      "Model: \"sequential\"\n",
      "_________________________________________________________________\n",
      " Layer (type)                Output Shape              Param #   \n",
      "=================================================================\n",
      " embedding (Embedding)       (None, 910, 20)           178420    \n",
      "                                                                 \n",
      " lstm (LSTM)                 (None, 910, 15)           2160      \n",
      "                                                                 \n",
      " global_max_pooling1d (Globa  (None, 15)               0         \n",
      " lMaxPooling1D)                                                  \n",
      "                                                                 \n",
      " dense (Dense)               (None, 1)                 16        \n",
      "                                                                 \n",
      "=================================================================\n",
      "Total params: 180,596\n",
      "Trainable params: 180,596\n",
      "Non-trainable params: 0\n",
      "_________________________________________________________________\n"
     ]
    }
   ],
   "source": [
    "rnn.summary()"
   ]
  },
  {
   "cell_type": "markdown",
   "metadata": {
    "id": "YR78AqTJQ9fp"
   },
   "source": [
    "**MODEL TRAINING**\n",
    "\n",
    "---\n",
    "\n"
   ]
  },
  {
   "cell_type": "code",
   "execution_count": 40,
   "metadata": {
    "executionInfo": {
     "elapsed": 222,
     "status": "ok",
     "timestamp": 1644934445508,
     "user": {
      "displayName": "Petra Bajac",
      "photoUrl": "https://lh3.googleusercontent.com/a-/AOh14GisMWQ6Nwt62NYivub0ffOkvc3Im46ek_BgBPz3=s64",
      "userId": "17459354793322234878"
     },
     "user_tz": -60
    },
    "id": "uarvoyr-qL4U"
   },
   "outputs": [],
   "source": [
    "BATCH_SIZE = 32\n",
    "EPOCHS = 5"
   ]
  },
  {
   "cell_type": "code",
   "execution_count": 41,
   "metadata": {
    "id": "YPfcwyxQ81MJ",
    "scrolled": true
   },
   "outputs": [
    {
     "name": "stdout",
     "output_type": "stream",
     "text": [
      "Epoch 1/5\n",
      "140/140 [==============================] - 47s 314ms/step - loss: 0.4757 - accuracy: 0.8602 - val_loss: 0.3621 - val_accuracy: 0.8689\n",
      "Epoch 2/5\n",
      "140/140 [==============================] - 47s 334ms/step - loss: 0.2756 - accuracy: 0.8838 - val_loss: 0.1435 - val_accuracy: 0.9713\n",
      "Epoch 3/5\n",
      "140/140 [==============================] - 45s 320ms/step - loss: 0.0866 - accuracy: 0.9823 - val_loss: 0.0916 - val_accuracy: 0.9767\n",
      "Epoch 4/5\n",
      "140/140 [==============================] - 44s 312ms/step - loss: 0.0483 - accuracy: 0.9908 - val_loss: 0.0644 - val_accuracy: 0.9856\n",
      "Epoch 5/5\n",
      "140/140 [==============================] - 43s 310ms/step - loss: 0.0358 - accuracy: 0.9930 - val_loss: 0.0587 - val_accuracy: 0.9838\n"
     ]
    },
    {
     "data": {
      "text/plain": [
       "<keras.callbacks.History at 0x21ffdc3f940>"
      ]
     },
     "execution_count": 41,
     "metadata": {},
     "output_type": "execute_result"
    }
   ],
   "source": [
    "# fixes the tensor conversion error\n",
    "y_train = np.array(y_train, dtype=float)\n",
    "y_valid = np.array(y_valid, dtype=float)\n",
    "y_test = np.array(y_test, dtype=float)\n",
    "\n",
    "rnn.fit(X_train, y_train, epochs=EPOCHS, validation_data=(X_valid, y_valid), batch_size=BATCH_SIZE)"
   ]
  },
  {
   "cell_type": "markdown",
   "metadata": {
    "id": "ImUqeNmvQ-y_"
   },
   "source": [
    "**MODEL EVALUATION**\n",
    "\n",
    "---\n",
    "\n"
   ]
  },
  {
   "cell_type": "code",
   "execution_count": 42,
   "metadata": {
    "executionInfo": {
     "elapsed": 211,
     "status": "ok",
     "timestamp": 1644934807812,
     "user": {
      "displayName": "Petra Bajac",
      "photoUrl": "https://lh3.googleusercontent.com/a-/AOh14GisMWQ6Nwt62NYivub0ffOkvc3Im46ek_BgBPz3=s64",
      "userId": "17459354793322234878"
     },
     "user_tz": -60
    },
    "id": "H79bgcxawNyp"
   },
   "outputs": [],
   "source": [
    "y_test = np.array(y_test, dtype=float)"
   ]
  },
  {
   "cell_type": "code",
   "execution_count": 43,
   "metadata": {
    "colab": {
     "base_uri": "https://localhost:8080/",
     "height": 281
    },
    "executionInfo": {
     "elapsed": 696,
     "status": "ok",
     "timestamp": 1644934786260,
     "user": {
      "displayName": "Petra Bajac",
      "photoUrl": "https://lh3.googleusercontent.com/a-/AOh14GisMWQ6Nwt62NYivub0ffOkvc3Im46ek_BgBPz3=s64",
      "userId": "17459354793322234878"
     },
     "user_tz": -60
    },
    "id": "n6ODifVfAT8B",
    "outputId": "50f48124-f5ad-4c83-91af-f473cc7347f1"
   },
   "outputs": [
    {
     "data": {
      "image/png": "[encoded data removed]",
      "text/plain": [
       "<Figure size 432x288 with 1 Axes>"
      ]
     },
     "metadata": {
      "needs_background": "light"
     },
     "output_type": "display_data"
    }
   ],
   "source": [
    "plt.plot(rnn.history.history[\"loss\"], label=\"Loss\", color=colors[0])\n",
    "plt.plot(rnn.history.history[\"val_loss\"], label=\"Validation Loss\", color=colors[1])\n",
    "plt.title(\"Loss metrics\")\n",
    "plt.legend()\n",
    "plt.show()"
   ]
  },
  {
   "cell_type": "code",
   "execution_count": 44,
   "metadata": {
    "colab": {
     "base_uri": "https://localhost:8080/",
     "height": 281
    },
    "executionInfo": {
     "elapsed": 763,
     "status": "ok",
     "timestamp": 1644934788947,
     "user": {
      "displayName": "Petra Bajac",
      "photoUrl": "https://lh3.googleusercontent.com/a-/AOh14GisMWQ6Nwt62NYivub0ffOkvc3Im46ek_BgBPz3=s64",
      "userId": "17459354793322234878"
     },
     "user_tz": -60
    },
    "id": "WXFz3FEbASjn",
    "outputId": "5142fca0-10db-4e57-fecf-83cdc6b8f4d3"
   },
   "outputs": [
    {
     "data": {
      "image/png": "[encoded data removed]",
      "text/plain": [
       "<Figure size 432x288 with 1 Axes>"
      ]
     },
     "metadata": {
      "needs_background": "light"
     },
     "output_type": "display_data"
    }
   ],
   "source": [
    "plt.plot(rnn.history.history[\"accuracy\"], label=\"Accuracy\", color=colors[0])\n",
    "plt.plot(rnn.history.history[\"val_accuracy\"], label=\"Validation accuracy\", color=colors[1])\n",
    "plt.title(\"Accuracy metrics\")\n",
    "plt.legend()\n",
    "plt.show()"
   ]
  },
  {
   "cell_type": "code",
   "execution_count": 45,
   "metadata": {
    "colab": {
     "base_uri": "https://localhost:8080/"
    },
    "executionInfo": {
     "elapsed": 2374,
     "status": "ok",
     "timestamp": 1644935043538,
     "user": {
      "displayName": "Petra Bajac",
      "photoUrl": "https://lh3.googleusercontent.com/a-/AOh14GisMWQ6Nwt62NYivub0ffOkvc3Im46ek_BgBPz3=s64",
      "userId": "17459354793322234878"
     },
     "user_tz": -60
    },
    "id": "SR44uhJXAiXu",
    "outputId": "cbd9e712-f050-4919-e438-14e9007ec35c"
   },
   "outputs": [
    {
     "name": "stdout",
     "output_type": "stream",
     "text": [
      "0.8870967741935484\n"
     ]
    }
   ],
   "source": [
    "from sklearn.metrics import accuracy_score\n",
    "\n",
    "y_pred = rnn.predict(X_test)\n",
    "\n",
    "print(accuracy_score(y_test.astype('int'), y_pred.astype('int')))"
   ]
  },
  {
   "cell_type": "markdown",
   "metadata": {
    "id": "rMS0NzQJRHIH"
   },
   "source": [
    "**NEW PREDICTIONS**\n",
    "\n",
    "---\n",
    "\n"
   ]
  },
  {
   "cell_type": "code",
   "execution_count": 46,
   "metadata": {
    "executionInfo": {
     "elapsed": 224,
     "status": "ok",
     "timestamp": 1644935450257,
     "user": {
      "displayName": "Petra Bajac",
      "photoUrl": "https://lh3.googleusercontent.com/a-/AOh14GisMWQ6Nwt62NYivub0ffOkvc3Im46ek_BgBPz3=s64",
      "userId": "17459354793322234878"
     },
     "user_tz": -60
    },
    "id": "r30wwtoM9YCJ"
   },
   "outputs": [],
   "source": [
    "output = rnn.predict(new_message)"
   ]
  },
  {
   "cell_type": "code",
   "execution_count": 47,
   "metadata": {
    "executionInfo": {
     "elapsed": 2,
     "status": "ok",
     "timestamp": 1644935451195,
     "user": {
      "displayName": "Petra Bajac",
      "photoUrl": "https://lh3.googleusercontent.com/a-/AOh14GisMWQ6Nwt62NYivub0ffOkvc3Im46ek_BgBPz3=s64",
      "userId": "17459354793322234878"
     },
     "user_tz": -60
    },
    "id": "RLuXAsP49M-w"
   },
   "outputs": [],
   "source": [
    "def prediction(output):\n",
    "   if output[0][0] > 0.5:\n",
    "     return \"spam\"\n",
    "   else:\n",
    "     return \"not_spam\""
   ]
  },
  {
   "cell_type": "code",
   "execution_count": 48,
   "metadata": {
    "colab": {
     "base_uri": "https://localhost:8080/",
     "height": 35
    },
    "executionInfo": {
     "elapsed": 4,
     "status": "ok",
     "timestamp": 1644935452017,
     "user": {
      "displayName": "Petra Bajac",
      "photoUrl": "https://lh3.googleusercontent.com/a-/AOh14GisMWQ6Nwt62NYivub0ffOkvc3Im46ek_BgBPz3=s64",
      "userId": "17459354793322234878"
     },
     "user_tz": -60
    },
    "id": "dHvyLougD8Dc",
    "outputId": "6257a8a0-7518-446b-bd66-6f8129a23e27"
   },
   "outputs": [
    {
     "data": {
      "text/plain": [
       "'spam'"
      ]
     },
     "execution_count": 48,
     "metadata": {},
     "output_type": "execute_result"
    }
   ],
   "source": [
    "prediction(output)"
   ]
  }
 ],
 "metadata": {
  "colab": {
   "collapsed_sections": [],
   "name": "spam_detection.ipynb",
   "provenance": []
  },
  "kernelspec": {
   "display_name": "Python 3",
   "language": "python",
   "name": "python3"
  },
  "language_info": {
   "codemirror_mode": {
    "name": "ipython",
    "version": 3
   },
   "file_extension": ".py",
   "mimetype": "text/x-python",
   "name": "python",
   "nbconvert_exporter": "python",
   "pygments_lexer": "ipython3",
   "version": "3.8.8"
  }
 },
 "nbformat": 4,
 "nbformat_minor": 1
}
